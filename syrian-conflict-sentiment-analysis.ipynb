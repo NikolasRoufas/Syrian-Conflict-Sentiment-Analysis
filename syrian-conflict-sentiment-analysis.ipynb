{
 "cells": [
  {
   "cell_type": "markdown",
   "id": "1c6d3567",
   "metadata": {
    "jp-MarkdownHeadingCollapsed": true,
    "papermill": {
     "duration": 0.010391,
     "end_time": "2025-01-07T18:56:08.513567",
     "exception": false,
     "start_time": "2025-01-07T18:56:08.503176",
     "status": "completed"
    },
    "tags": []
   },
   "source": [
    "## Analyzing Sentiments and Geopolitical Stances in Reddit Comments on Syrian Conflict"
   ]
  },
  {
   "cell_type": "markdown",
   "id": "0219553e",
   "metadata": {
    "jp-MarkdownHeadingCollapsed": true,
    "papermill": {
     "duration": 0.006282,
     "end_time": "2025-01-07T18:56:08.529435",
     "exception": false,
     "start_time": "2025-01-07T18:56:08.523153",
     "status": "completed"
    },
    "tags": []
   },
   "source": [
    "# Analyzing Online Discourse Surrounding the Syrian Conflict  \r\n",
    "\r\n",
    "This Jupyter Notebook explores the complexities of public discourse related to the Syrian conflict. By analyzing textual data from various sources, we aim to uncover sentiments, themes, and perspectives that define the narrative. Using advanced Natural Language Processing (NLP) and data science techniques, this analysis is structured into several key stages:\r\n",
    "\r\n",
    "## 1. Data Acquisition and Cleaning  \r\n",
    "We begin by:  \r\n",
    "- **Loading the Dataset**: Importing a structured dataset of user-generated content (e.g., comments, articles, or social media posts) discussing the Syrian conflict.  \r\n",
    "- **Data Cleaning**: Preparing the text for analysis by removing:  \r\n",
    "  - URLs, special characters, and HTML tags.  \r\n",
    "  - Stopwords and redundant terms.  \r\n",
    "  - Applying **lemmatization** to normalize words for consistent analysis.  \r\n",
    "\r\n",
    "## 2. Sentiment Analysis  \r\n",
    "Using sentiment analysis tools like **VADER** or **TextBlob**, we measure the emotional tone of the data. Metrics calculated include:  \r\n",
    "- **Compound Score**: Overall sentiment polarity.  \r\n",
    "- **Positive, Negative, and Neutral Scores**: Detailed breakdown of sentiment categories.  \r\n",
    "This allows us to gauge emotional responses and attitudes toward events or topics within the conflict.  \r\n",
    "\r\n",
    "## 3. Exploratory Data Analysis (EDA)  \r\n",
    "To understand patterns and trends, we employ:  \r\n",
    "- **Word Clouds**: Highlighting frequently used terms and themes.  \r\n",
    "- **Density Plots and Bar Charts**: Visualizing sentiment distributions and recurring topics.  \r\n",
    "These insights help us explore the dataset's structure and identify key areas of focus.  \r\n",
    "\r\n",
    "## 4. Topic Modeling  \r\n",
    "Using **Latent Dirichlet Allocation (LDA)**, we uncover hidden topics and themes. These topics provide a deeper understanding of the primary discussions, such as:  \r\n",
    "- Humanitarian crises.  \r\n",
    "- Political strategies.  \r\n",
    "- International interventions.  \r\n",
    "- Personal experiences related to the conflict.  \r\n",
    "\r\n",
    "## 5. Geopolitical Perspective Classification  \r\n",
    "By integrating sentiment analysis results and topic modeling insights, we classify entries into distinct geopolitical perspectives. These categories include:  \r\n",
    "- **Support for specific factions.**  \r\n",
    "- **Opposition to international interventions.**  \r\n",
    "- **Neutral or balanced viewpoints.**  \r\n",
    "This classification helps unravel the complex stances present in the discourse.  \r\n",
    "\r\n",
    "## 6. Insights and Conclusions  \r\n",
    "The analysis sheds light on:  \r\n",
    "- **Public Sentiments**: Emotional responses prevalent in discussions.  \r\n",
    "- **Dominant Themes**: Topics driving the conversation.  \r\n",
    "- **Diverse Perspectives**: How individuals and communities perceive the Syrian conflict.  \r\n",
    "\r\n",
    "This comprehensive study provides a nuanced understanding of the public narrative, offering insights valuable to policymakers, researchers, and social analysts alike.  \r\n"
   ]
  },
  {
   "cell_type": "code",
   "execution_count": 1,
   "id": "9449cdaa",
   "metadata": {
    "execution": {
     "iopub.execute_input": "2025-01-07T18:56:08.542525Z",
     "iopub.status.busy": "2025-01-07T18:56:08.542014Z",
     "iopub.status.idle": "2025-01-07T18:56:12.097260Z",
     "shell.execute_reply": "2025-01-07T18:56:12.096282Z"
    },
    "papermill": {
     "duration": 3.564948,
     "end_time": "2025-01-07T18:56:12.099841",
     "exception": false,
     "start_time": "2025-01-07T18:56:08.534893",
     "status": "completed"
    },
    "tags": []
   },
   "outputs": [
    {
     "name": "stderr",
     "output_type": "stream",
     "text": [
      "/opt/conda/lib/python3.10/site-packages/nltk/twitter/__init__.py:20: UserWarning: The twython library has not been installed. Some functionality from the twitter package will not be available.\n",
      "  warnings.warn(\"The twython library has not been installed. \"\n"
     ]
    }
   ],
   "source": [
    "import pandas as pd  # For handling CSV and data analysis\n",
    "import nltk  # For text processing and sentiment analysis\n",
    "from nltk.sentiment.vader import SentimentIntensityAnalyzer\n",
    "import matplotlib.pyplot as plt  # For visualization\n",
    "import seaborn as sns  # For nicer plots"
   ]
  },
  {
   "cell_type": "markdown",
   "id": "beb96c89",
   "metadata": {
    "papermill": {
     "duration": 0.005977,
     "end_time": "2025-01-07T18:56:12.110944",
     "exception": false,
     "start_time": "2025-01-07T18:56:12.104967",
     "status": "completed"
    },
    "tags": []
   },
   "source": []
  },
  {
   "cell_type": "code",
   "execution_count": 2,
   "id": "b7958b31",
   "metadata": {
    "execution": {
     "iopub.execute_input": "2025-01-07T18:56:12.122451Z",
     "iopub.status.busy": "2025-01-07T18:56:12.121871Z",
     "iopub.status.idle": "2025-01-07T18:56:12.364471Z",
     "shell.execute_reply": "2025-01-07T18:56:12.363184Z"
    },
    "papermill": {
     "duration": 0.250722,
     "end_time": "2025-01-07T18:56:12.366571",
     "exception": false,
     "start_time": "2025-01-07T18:56:12.115849",
     "status": "completed"
    },
    "tags": []
   },
   "outputs": [
    {
     "name": "stdout",
     "output_type": "stream",
     "text": [
      "[nltk_data] Downloading package vader_lexicon to\n",
      "[nltk_data]     /usr/share/nltk_data...\n",
      "[nltk_data]   Package vader_lexicon is already up-to-date!\n"
     ]
    },
    {
     "data": {
      "text/plain": [
       "True"
      ]
     },
     "execution_count": 2,
     "metadata": {},
     "output_type": "execute_result"
    }
   ],
   "source": [
    "nltk.download(\"vader_lexicon\")"
   ]
  },
  {
   "cell_type": "code",
   "execution_count": 3,
   "id": "c204c8e0",
   "metadata": {
    "execution": {
     "iopub.execute_input": "2025-01-07T18:56:12.378555Z",
     "iopub.status.busy": "2025-01-07T18:56:12.378175Z",
     "iopub.status.idle": "2025-01-07T18:56:12.400088Z",
     "shell.execute_reply": "2025-01-07T18:56:12.398977Z"
    },
    "papermill": {
     "duration": 0.030747,
     "end_time": "2025-01-07T18:56:12.402615",
     "exception": false,
     "start_time": "2025-01-07T18:56:12.371868",
     "status": "completed"
    },
    "tags": []
   },
   "outputs": [],
   "source": [
    "# Load the CSV file\n",
    "csv_file = \"/kaggle/input/syrian-conflict-comments-reddit/syrianconflict_comments.csv\" \n",
    "df = pd.read_csv(csv_file)\n"
   ]
  },
  {
   "cell_type": "markdown",
   "id": "4be1abd3",
   "metadata": {
    "jp-MarkdownHeadingCollapsed": true,
    "papermill": {
     "duration": 0.004823,
     "end_time": "2025-01-07T18:56:12.412681",
     "exception": false,
     "start_time": "2025-01-07T18:56:12.407858",
     "status": "completed"
    },
    "tags": []
   },
   "source": [
    "# Data Exploration and Cleaning¶"
   ]
  },
  {
   "cell_type": "code",
   "execution_count": 4,
   "id": "cbdd720c",
   "metadata": {
    "execution": {
     "iopub.execute_input": "2025-01-07T18:56:12.424423Z",
     "iopub.status.busy": "2025-01-07T18:56:12.424004Z",
     "iopub.status.idle": "2025-01-07T18:56:12.448256Z",
     "shell.execute_reply": "2025-01-07T18:56:12.447221Z"
    },
    "papermill": {
     "duration": 0.032979,
     "end_time": "2025-01-07T18:56:12.450671",
     "exception": false,
     "start_time": "2025-01-07T18:56:12.417692",
     "status": "completed"
    },
    "tags": []
   },
   "outputs": [
    {
     "name": "stdout",
     "output_type": "stream",
     "text": [
      "First few rows of the data:\n"
     ]
    },
    {
     "data": {
      "text/html": [
       "<div>\n",
       "<style scoped>\n",
       "    .dataframe tbody tr th:only-of-type {\n",
       "        vertical-align: middle;\n",
       "    }\n",
       "\n",
       "    .dataframe tbody tr th {\n",
       "        vertical-align: top;\n",
       "    }\n",
       "\n",
       "    .dataframe thead th {\n",
       "        text-align: right;\n",
       "    }\n",
       "</style>\n",
       "<table border=\"1\" class=\"dataframe\">\n",
       "  <thead>\n",
       "    <tr style=\"text-align: right;\">\n",
       "      <th></th>\n",
       "      <th>post_id</th>\n",
       "      <th>post_title</th>\n",
       "      <th>comment_id</th>\n",
       "      <th>comment_body</th>\n",
       "      <th>comment_score</th>\n",
       "      <th>created_utc</th>\n",
       "    </tr>\n",
       "  </thead>\n",
       "  <tbody>\n",
       "    <tr>\n",
       "      <th>0</th>\n",
       "      <td>6g3vw1</td>\n",
       "      <td>Annoucing /r/SyrianConflict - By the community...</td>\n",
       "      <td>dints5v</td>\n",
       "      <td>I guess *somebody* got sick of r/scw doing abs...</td>\n",
       "      <td>39</td>\n",
       "      <td>1.496982e+09</td>\n",
       "    </tr>\n",
       "    <tr>\n",
       "      <th>1</th>\n",
       "      <td>6g3vw1</td>\n",
       "      <td>Annoucing /r/SyrianConflict - By the community...</td>\n",
       "      <td>dinc1n3</td>\n",
       "      <td>&gt; Permanent bans of legitimate users will be v...</td>\n",
       "      <td>16</td>\n",
       "      <td>1.496959e+09</td>\n",
       "    </tr>\n",
       "    <tr>\n",
       "      <th>2</th>\n",
       "      <td>6g3vw1</td>\n",
       "      <td>Annoucing /r/SyrianConflict - By the community...</td>\n",
       "      <td>dinh0mr</td>\n",
       "      <td>Interesting and much needed initiative. I don'...</td>\n",
       "      <td>14</td>\n",
       "      <td>1.496966e+09</td>\n",
       "    </tr>\n",
       "    <tr>\n",
       "      <th>3</th>\n",
       "      <td>6g3vw1</td>\n",
       "      <td>Annoucing /r/SyrianConflict - By the community...</td>\n",
       "      <td>dingodw</td>\n",
       "      <td>I propose no more than a weeks ban. Anything l...</td>\n",
       "      <td>14</td>\n",
       "      <td>1.496965e+09</td>\n",
       "    </tr>\n",
       "    <tr>\n",
       "      <th>4</th>\n",
       "      <td>6g3vw1</td>\n",
       "      <td>Annoucing /r/SyrianConflict - By the community...</td>\n",
       "      <td>dip2rkv</td>\n",
       "      <td>[removed]</td>\n",
       "      <td>10</td>\n",
       "      <td>1.497050e+09</td>\n",
       "    </tr>\n",
       "  </tbody>\n",
       "</table>\n",
       "</div>"
      ],
      "text/plain": [
       "  post_id                                         post_title comment_id  \\\n",
       "0  6g3vw1  Annoucing /r/SyrianConflict - By the community...    dints5v   \n",
       "1  6g3vw1  Annoucing /r/SyrianConflict - By the community...    dinc1n3   \n",
       "2  6g3vw1  Annoucing /r/SyrianConflict - By the community...    dinh0mr   \n",
       "3  6g3vw1  Annoucing /r/SyrianConflict - By the community...    dingodw   \n",
       "4  6g3vw1  Annoucing /r/SyrianConflict - By the community...    dip2rkv   \n",
       "\n",
       "                                        comment_body  comment_score  \\\n",
       "0  I guess *somebody* got sick of r/scw doing abs...             39   \n",
       "1  > Permanent bans of legitimate users will be v...             16   \n",
       "2  Interesting and much needed initiative. I don'...             14   \n",
       "3  I propose no more than a weeks ban. Anything l...             14   \n",
       "4                                          [removed]             10   \n",
       "\n",
       "    created_utc  \n",
       "0  1.496982e+09  \n",
       "1  1.496959e+09  \n",
       "2  1.496966e+09  \n",
       "3  1.496965e+09  \n",
       "4  1.497050e+09  "
      ]
     },
     "execution_count": 4,
     "metadata": {},
     "output_type": "execute_result"
    }
   ],
   "source": [
    "# Display the first few rows of the data\n",
    "print(\"First few rows of the data:\")\n",
    "df.head()"
   ]
  },
  {
   "cell_type": "markdown",
   "id": "2cea1593",
   "metadata": {
    "jp-MarkdownHeadingCollapsed": true,
    "papermill": {
     "duration": 0.004942,
     "end_time": "2025-01-07T18:56:12.460974",
     "exception": false,
     "start_time": "2025-01-07T18:56:12.456032",
     "status": "completed"
    },
    "tags": []
   },
   "source": [
    "# Check the columns in the dataset"
   ]
  },
  {
   "cell_type": "code",
   "execution_count": 5,
   "id": "2386c493",
   "metadata": {
    "execution": {
     "iopub.execute_input": "2025-01-07T18:56:12.473166Z",
     "iopub.status.busy": "2025-01-07T18:56:12.472772Z",
     "iopub.status.idle": "2025-01-07T18:56:12.486534Z",
     "shell.execute_reply": "2025-01-07T18:56:12.485454Z"
    },
    "papermill": {
     "duration": 0.022716,
     "end_time": "2025-01-07T18:56:12.488946",
     "exception": false,
     "start_time": "2025-01-07T18:56:12.466230",
     "status": "completed"
    },
    "tags": []
   },
   "outputs": [
    {
     "name": "stdout",
     "output_type": "stream",
     "text": [
      "Columns in the dataset:\n",
      "Index(['post_id', 'post_title', 'comment_id', 'comment_body', 'comment_score',\n",
      "       'created_utc'],\n",
      "      dtype='object')\n",
      "Number of comments after cleaning: 208\n"
     ]
    }
   ],
   "source": [
    "# 1. Check the columns in the dataset\n",
    "print(\"Columns in the dataset:\")\n",
    "print(df.columns)\n",
    "\n",
    "# 2. Check if the 'comment_body' column exists instead of 'self_text'\n",
    "if 'comment_body' not in df.columns:\n",
    "    raise ValueError(\"The CSV file does not contain a 'comment_body' column. Check your data.\")\n",
    "\n",
    "# 3. Drop rows where the 'comment_body' column is empty or NaN\n",
    "df = df.dropna(subset=['comment_body'])\n",
    "\n",
    "# 4. Print the number of comments after cleaning\n",
    "print(f\"Number of comments after cleaning: {len(df)}\")\n"
   ]
  },
  {
   "cell_type": "markdown",
   "id": "34784d60",
   "metadata": {
    "jp-MarkdownHeadingCollapsed": true,
    "papermill": {
     "duration": 0.005067,
     "end_time": "2025-01-07T18:56:12.499398",
     "exception": false,
     "start_time": "2025-01-07T18:56:12.494331",
     "status": "completed"
    },
    "tags": []
   },
   "source": [
    "# Function to perform sentiment analysis on the comments column"
   ]
  },
  {
   "cell_type": "code",
   "execution_count": 6,
   "id": "1ae906d1",
   "metadata": {
    "execution": {
     "iopub.execute_input": "2025-01-07T18:56:12.511995Z",
     "iopub.status.busy": "2025-01-07T18:56:12.511597Z",
     "iopub.status.idle": "2025-01-07T18:56:12.645663Z",
     "shell.execute_reply": "2025-01-07T18:56:12.644668Z"
    },
    "papermill": {
     "duration": 0.143253,
     "end_time": "2025-01-07T18:56:12.648066",
     "exception": false,
     "start_time": "2025-01-07T18:56:12.504813",
     "status": "completed"
    },
    "tags": []
   },
   "outputs": [
    {
     "name": "stdout",
     "output_type": "stream",
     "text": [
      "Performing sentiment analysis...\n",
      "Sentiment analysis complete. Here are the results:\n",
      "  post_id                                         post_title comment_id  \\\n",
      "0  6g3vw1  Annoucing /r/SyrianConflict - By the community...    dints5v   \n",
      "1  6g3vw1  Annoucing /r/SyrianConflict - By the community...    dinc1n3   \n",
      "2  6g3vw1  Annoucing /r/SyrianConflict - By the community...    dinh0mr   \n",
      "3  6g3vw1  Annoucing /r/SyrianConflict - By the community...    dingodw   \n",
      "4  6g3vw1  Annoucing /r/SyrianConflict - By the community...    dip2rkv   \n",
      "\n",
      "                                        comment_body  comment_score  \\\n",
      "0  I guess *somebody* got sick of r/scw doing abs...             39   \n",
      "1  > Permanent bans of legitimate users will be v...             16   \n",
      "2  Interesting and much needed initiative. I don'...             14   \n",
      "3  I propose no more than a weeks ban. Anything l...             14   \n",
      "4                                          [removed]             10   \n",
      "\n",
      "    created_utc                                            Comment  Positive  \\\n",
      "0  1.496982e+09  I guess *somebody* got sick of r/scw doing abs...     0.128   \n",
      "1  1.496959e+09  > Permanent bans of legitimate users will be v...     0.222   \n",
      "2  1.496966e+09  Interesting and much needed initiative. I don'...     0.324   \n",
      "3  1.496965e+09  I propose no more than a weeks ban. Anything l...     0.000   \n",
      "4  1.497050e+09                                          [removed]     0.000   \n",
      "\n",
      "   Neutral  Negative  Compound  \n",
      "0    0.596     0.275   -0.4939  \n",
      "1    0.665     0.113    0.8668  \n",
      "2    0.676     0.000    0.9246  \n",
      "3    0.572     0.428   -0.8387  \n",
      "4    1.000     0.000    0.0000  \n"
     ]
    }
   ],
   "source": [
    "from nltk.sentiment import SentimentIntensityAnalyzer\n",
    "import pandas as pd\n",
    "\n",
    "\n",
    "def analyze_sentiments(dataframe, comment_column):\n",
    "    \"\"\"\n",
    "    Perform sentiment analysis on the comments column using VADER.\n",
    "    \"\"\"\n",
    "    sia = SentimentIntensityAnalyzer()\n",
    "    sentiment_data = []\n",
    "\n",
    "    for comment in dataframe[comment_column]:\n",
    "        scores = sia.polarity_scores(comment)\n",
    "        sentiment_data.append({\n",
    "            \"Comment\": comment,\n",
    "            \"Positive\": scores['pos'],\n",
    "            \"Neutral\": scores['neu'],\n",
    "            \"Negative\": scores['neg'],\n",
    "            \"Compound\": scores['compound']\n",
    "        })\n",
    "    \n",
    "    return pd.DataFrame(sentiment_data)\n",
    "\n",
    "# Analyze sentiments\n",
    "print(\"Performing sentiment analysis...\")\n",
    "\n",
    "# Update the column name to 'comment_body'\n",
    "sentiment_df = analyze_sentiments(df, 'comment_body')\n",
    "\n",
    "# Merge the sentiment results with the original data\n",
    "result_df = pd.concat([df.reset_index(drop=True), sentiment_df], axis=1)\n",
    "\n",
    "# Display results\n",
    "print(\"Sentiment analysis complete. Here are the results:\")\n",
    "print(result_df.head())\n",
    "\n",
    "# Optionally, save the results to a CSV file\n",
    "result_df.to_csv(\"sentiment_analysis_results.csv\", index=False)\n"
   ]
  },
  {
   "cell_type": "code",
   "execution_count": 7,
   "id": "33808198",
   "metadata": {
    "execution": {
     "iopub.execute_input": "2025-01-07T18:56:12.661615Z",
     "iopub.status.busy": "2025-01-07T18:56:12.660785Z",
     "iopub.status.idle": "2025-01-07T18:56:12.673716Z",
     "shell.execute_reply": "2025-01-07T18:56:12.672722Z"
    },
    "papermill": {
     "duration": 0.021966,
     "end_time": "2025-01-07T18:56:12.675764",
     "exception": false,
     "start_time": "2025-01-07T18:56:12.653798",
     "status": "completed"
    },
    "tags": []
   },
   "outputs": [
    {
     "name": "stdout",
     "output_type": "stream",
     "text": [
      "Results saved to sentiment_analysis_results.csv\n"
     ]
    }
   ],
   "source": [
    "output_file = \"sentiment_analysis_results.csv\"\n",
    "result_df.to_csv(output_file, index=False)\n",
    "print(f\"Results saved to {output_file}\")\n"
   ]
  },
  {
   "cell_type": "markdown",
   "id": "eb3daaa0",
   "metadata": {
    "papermill": {
     "duration": 0.005355,
     "end_time": "2025-01-07T18:56:12.686811",
     "exception": false,
     "start_time": "2025-01-07T18:56:12.681456",
     "status": "completed"
    },
    "tags": []
   },
   "source": [
    "# Visualization of Sentiments /  Sentiment categories / Visualize the results"
   ]
  },
  {
   "cell_type": "code",
   "execution_count": 8,
   "id": "8262aa0a",
   "metadata": {
    "execution": {
     "iopub.execute_input": "2025-01-07T18:56:12.699744Z",
     "iopub.status.busy": "2025-01-07T18:56:12.699315Z",
     "iopub.status.idle": "2025-01-07T18:56:13.269604Z",
     "shell.execute_reply": "2025-01-07T18:56:13.268418Z"
    },
    "papermill": {
     "duration": 0.57917,
     "end_time": "2025-01-07T18:56:13.271680",
     "exception": false,
     "start_time": "2025-01-07T18:56:12.692510",
     "status": "completed"
    },
    "tags": []
   },
   "outputs": [
    {
     "name": "stdout",
     "output_type": "stream",
     "text": [
      "Visualizing sentiments...\n"
     ]
    },
    {
     "name": "stderr",
     "output_type": "stream",
     "text": [
      "/opt/conda/lib/python3.10/site-packages/seaborn/_oldcore.py:1119: FutureWarning: use_inf_as_na option is deprecated and will be removed in a future version. Convert inf values to NaN before operating instead.\n",
      "  with pd.option_context('mode.use_inf_as_na', True):\n"
     ]
    },
    {
     "data": {
      "image/png": "[encoded data removed]",
      "text/plain": [
       "<Figure size 1000x600 with 1 Axes>"
      ]
     },
     "metadata": {},
     "output_type": "display_data"
    },
    {
     "data": {
      "image/png": "[encoded data removed]",
      "text/plain": [
       "<Figure size 800x600 with 1 Axes>"
      ]
     },
     "metadata": {},
     "output_type": "display_data"
    }
   ],
   "source": [
    "# Visualization of Sentiments\n",
    "def visualize_sentiments(dataframe):\n",
    "    plt.figure(figsize=(10, 6))\n",
    "    sns.histplot(dataframe['Compound'], bins=30, kde=True, color='skyblue')\n",
    "    plt.title(\"Distribution of Sentiment Scores\")\n",
    "    plt.xlabel(\"Compound Sentiment Score\")\n",
    "    plt.ylabel(\"Frequency\")\n",
    "    plt.show()\n",
    "\n",
    "    # Sentiment categories\n",
    "    dataframe['Sentiment'] = dataframe['Compound'].apply(\n",
    "        lambda x: 'Positive' if x > 0.05 else ('Negative' if x < -0.05 else 'Neutral')\n",
    "    )\n",
    "    sentiment_counts = dataframe['Sentiment'].value_counts()\n",
    "\n",
    "    plt.figure(figsize=(8, 6))\n",
    "    sns.barplot(x=sentiment_counts.index, y=sentiment_counts.values, palette=\"viridis\")\n",
    "    plt.title(\"Sentiment Distribution in Reddit Comments\")\n",
    "    plt.xlabel(\"Sentiment\")\n",
    "    plt.ylabel(\"Count\")\n",
    "    plt.show()\n",
    "\n",
    "# Visualize the results\n",
    "print(\"Visualizing sentiments...\")\n",
    "visualize_sentiments(result_df)\n"
   ]
  },
  {
   "cell_type": "markdown",
   "id": "5f3ddb6e",
   "metadata": {
    "jp-MarkdownHeadingCollapsed": true,
    "papermill": {
     "duration": 0.008299,
     "end_time": "2025-01-07T18:56:13.291348",
     "exception": false,
     "start_time": "2025-01-07T18:56:13.283049",
     "status": "completed"
    },
    "tags": []
   },
   "source": [
    "# Summary of Sentiments:"
   ]
  },
  {
   "cell_type": "code",
   "execution_count": 9,
   "id": "cd94278b",
   "metadata": {
    "execution": {
     "iopub.execute_input": "2025-01-07T18:56:13.306452Z",
     "iopub.status.busy": "2025-01-07T18:56:13.306049Z",
     "iopub.status.idle": "2025-01-07T18:56:13.314297Z",
     "shell.execute_reply": "2025-01-07T18:56:13.312797Z"
    },
    "papermill": {
     "duration": 0.01893,
     "end_time": "2025-01-07T18:56:13.317126",
     "exception": false,
     "start_time": "2025-01-07T18:56:13.298196",
     "status": "completed"
    },
    "tags": []
   },
   "outputs": [
    {
     "name": "stdout",
     "output_type": "stream",
     "text": [
      "Summary of Sentiments:\n",
      "Sentiment\n",
      "Positive    94\n",
      "Neutral     60\n",
      "Negative    54\n",
      "Name: count, dtype: int64\n"
     ]
    }
   ],
   "source": [
    "print(\"Summary of Sentiments:\")\n",
    "print(result_df['Sentiment'].value_counts())\n"
   ]
  },
  {
   "cell_type": "markdown",
   "id": "a6adb4b8",
   "metadata": {
    "jp-MarkdownHeadingCollapsed": true,
    "papermill": {
     "duration": 0.007333,
     "end_time": "2025-01-07T18:56:13.335199",
     "exception": false,
     "start_time": "2025-01-07T18:56:13.327866",
     "status": "completed"
    },
    "tags": []
   },
   "source": [
    "# Perform sentiment analysis on the comments column using VADER."
   ]
  },
  {
   "cell_type": "code",
   "execution_count": 10,
   "id": "258aa1ee",
   "metadata": {
    "execution": {
     "iopub.execute_input": "2025-01-07T18:56:13.357114Z",
     "iopub.status.busy": "2025-01-07T18:56:13.356400Z",
     "iopub.status.idle": "2025-01-07T18:56:13.498264Z",
     "shell.execute_reply": "2025-01-07T18:56:13.497164Z"
    },
    "papermill": {
     "duration": 0.158406,
     "end_time": "2025-01-07T18:56:13.500528",
     "exception": false,
     "start_time": "2025-01-07T18:56:13.342122",
     "status": "completed"
    },
    "tags": []
   },
   "outputs": [
    {
     "name": "stdout",
     "output_type": "stream",
     "text": [
      "Performing sentiment analysis...\n",
      "Columns in the dataset after merging sentiment data:\n",
      "Index(['post_id', 'post_title', 'comment_id', 'comment_body', 'comment_score',\n",
      "       'created_utc', 'Comment', 'Positive', 'Neutral', 'Negative',\n",
      "       'Compound'],\n",
      "      dtype='object')\n",
      "Sentiment Analysis Results:\n",
      "Positive Comments: 2.88%\n",
      "Negative Comments: 0.00%\n",
      "Neutral Comments: 95.19%\n",
      "Total Comments Analyzed: 208\n",
      "\n",
      "Geopolitical Stance Analysis Results:\n",
      "Positive Geopolitical Stance: 11.54%\n",
      "Negative Geopolitical Stance: 16.83%\n",
      "\n",
      "Conflict Sentiment Evaluation:\n",
      "Overall Conflict Sentiment: Good (Overall Positive)\n"
     ]
    }
   ],
   "source": [
    "def analyze_sentiments(dataframe, comment_column):\n",
    "    \"\"\"\n",
    "    Perform sentiment analysis on the comments column using VADER.\n",
    "    \"\"\"\n",
    "    sia = SentimentIntensityAnalyzer()\n",
    "    sentiment_data = []\n",
    "\n",
    "    for comment in dataframe[comment_column]:\n",
    "        scores = sia.polarity_scores(comment)\n",
    "        sentiment_data.append({\n",
    "            \"Comment\": comment,\n",
    "            \"Positive\": scores['pos'],\n",
    "            \"Neutral\": scores['neu'],\n",
    "            \"Negative\": scores['neg'],\n",
    "            \"Compound\": scores['compound']\n",
    "        })\n",
    "    \n",
    "    return pd.DataFrame(sentiment_data)\n",
    "\n",
    "# Analyze sentiments\n",
    "print(\"Performing sentiment analysis...\")\n",
    "sentiment_df = analyze_sentiments(df, 'comment_body')  # Ensure you're using 'comment_body' column for analysis\n",
    "\n",
    "# Merge the sentiment results with the original data\n",
    "df = df.reset_index(drop=True)\n",
    "result_df = pd.concat([df, sentiment_df], axis=1)\n",
    "\n",
    "# Ensure that the sentiment columns exist in the final DataFrame\n",
    "print(\"Columns in the dataset after merging sentiment data:\")\n",
    "print(result_df.columns)\n",
    "\n",
    "# Now, let's proceed with the conflict sentiment evaluation\n",
    "\n",
    "# 1. Aggregate Sentiment Scores\n",
    "def aggregate_sentiment(df):\n",
    "    \"\"\"\n",
    "    Aggregates sentiment scores to determine the overall sentiment of the conflict.\n",
    "    Returns a summary of positive, negative, and neutral sentiments.\n",
    "    \"\"\"\n",
    "    positive_comments = df[df['Positive'] > 0.5].shape[0]  # Assuming 'Positive' > 0.5 is a positive comment\n",
    "    negative_comments = df[df['Negative'] > 0.5].shape[0]  # Assuming 'Negative' > 0.5 is a negative comment\n",
    "    neutral_comments = df[df['Neutral'] > 0.5].shape[0]  # Assuming 'Neutral' > 0.5 is neutral\n",
    "\n",
    "    total_comments = len(df)\n",
    "    positive_percentage = (positive_comments / total_comments) * 100\n",
    "    negative_percentage = (negative_comments / total_comments) * 100\n",
    "    neutral_percentage = (neutral_comments / total_comments) * 100\n",
    "\n",
    "    return positive_percentage, negative_percentage, neutral_percentage, total_comments\n",
    "\n",
    "# 2. Geopolitical Keyword Analysis (Basic Implementation)\n",
    "def analyze_geopolitical_stance(df, keywords_positive, keywords_negative):\n",
    "    \"\"\"\n",
    "    Analyzes geopolitical stance based on keywords in the comments.\n",
    "    Keywords can be customized for positive and negative stances.\n",
    "    \"\"\"\n",
    "    positive_stance_count = 0\n",
    "    negative_stance_count = 0\n",
    "\n",
    "    for comment in df['comment_body']:\n",
    "        if any(keyword in comment.lower() for keyword in keywords_positive):\n",
    "            positive_stance_count += 1\n",
    "        elif any(keyword in comment.lower() for keyword in keywords_negative):\n",
    "            negative_stance_count += 1\n",
    "\n",
    "    total_comments = len(df)\n",
    "    positive_stance_percentage = (positive_stance_count / total_comments) * 100\n",
    "    negative_stance_percentage = (negative_stance_count / total_comments) * 100\n",
    "\n",
    "    return positive_stance_percentage, negative_stance_percentage\n",
    "\n",
    "# 3. Overall Conflict Sentiment Evaluation\n",
    "def evaluate_conflict_sentiment(df):\n",
    "    \"\"\"\n",
    "    Evaluates the overall sentiment of the Syrian conflict based on sentiment analysis and geopolitical stance.\n",
    "    \"\"\"\n",
    "    # Keywords for geopolitical stance analysis (can be adjusted)\n",
    "    keywords_positive = [\"support\", \"help\", \"freedom\", \"peace\", \"government\", \"stability\"]\n",
    "    keywords_negative = [\"oppose\", \"war\", \"rebel\", \"violence\", \"chaos\", \"regime\"]\n",
    "\n",
    "    # Aggregate sentiment analysis\n",
    "    positive_percentage, negative_percentage, neutral_percentage, total_comments = aggregate_sentiment(df)\n",
    "\n",
    "    # Geopolitical stance analysis\n",
    "    geopolitics_positive, geopolitics_negative = analyze_geopolitical_stance(df, keywords_positive, keywords_negative)\n",
    "\n",
    "    # Print out the results\n",
    "    print(\"Sentiment Analysis Results:\")\n",
    "    print(f\"Positive Comments: {positive_percentage:.2f}%\")\n",
    "    print(f\"Negative Comments: {negative_percentage:.2f}%\")\n",
    "    print(f\"Neutral Comments: {neutral_percentage:.2f}%\")\n",
    "    print(f\"Total Comments Analyzed: {total_comments}\")\n",
    "\n",
    "    print(\"\\nGeopolitical Stance Analysis Results:\")\n",
    "    print(f\"Positive Geopolitical Stance: {geopolitics_positive:.2f}%\")\n",
    "    print(f\"Negative Geopolitical Stance: {geopolitics_negative:.2f}%\")\n",
    "\n",
    "    # Determine if the conflict is viewed positively or negatively\n",
    "    if positive_percentage > negative_percentage:\n",
    "        conflict_sentiment = \"Good (Overall Positive)\"\n",
    "    elif negative_percentage > positive_percentage:\n",
    "        conflict_sentiment = \"Bad (Overall Negative)\"\n",
    "    else:\n",
    "        conflict_sentiment = \"Neutral (Mixed Sentiment)\"\n",
    "\n",
    "    return conflict_sentiment\n",
    "\n",
    "# 4. Run the Sentiment and Geopolitical Analysis\n",
    "conflict_sentiment = evaluate_conflict_sentiment(result_df)\n",
    "\n",
    "# 5. Display the Conflict Sentiment Result\n",
    "print(\"\\nConflict Sentiment Evaluation:\")\n",
    "print(f\"Overall Conflict Sentiment: {conflict_sentiment}\")\n"
   ]
  },
  {
   "cell_type": "markdown",
   "id": "77bf00cf",
   "metadata": {
    "jp-MarkdownHeadingCollapsed": true,
    "papermill": {
     "duration": 0.006496,
     "end_time": "2025-01-07T18:56:13.514146",
     "exception": false,
     "start_time": "2025-01-07T18:56:13.507650",
     "status": "completed"
    },
    "tags": []
   },
   "source": [
    "# Data Preprocessing and Feature Engineering"
   ]
  },
  {
   "cell_type": "code",
   "execution_count": 11,
   "id": "6e5cce59",
   "metadata": {
    "execution": {
     "iopub.execute_input": "2025-01-07T18:56:13.529130Z",
     "iopub.status.busy": "2025-01-07T18:56:13.528750Z",
     "iopub.status.idle": "2025-01-07T18:56:13.545869Z",
     "shell.execute_reply": "2025-01-07T18:56:13.544718Z"
    },
    "papermill": {
     "duration": 0.027318,
     "end_time": "2025-01-07T18:56:13.548225",
     "exception": false,
     "start_time": "2025-01-07T18:56:13.520907",
     "status": "completed"
    },
    "tags": []
   },
   "outputs": [
    {
     "name": "stdout",
     "output_type": "stream",
     "text": [
      "  post_id comment_id         created_utc month_year\n",
      "0  6g3vw1    dints5v 2017-06-09 04:20:44    2017-06\n",
      "1  6g3vw1    dinc1n3 2017-06-08 22:04:03    2017-06\n",
      "2  6g3vw1    dinh0mr 2017-06-08 23:46:49    2017-06\n",
      "3  6g3vw1    dingodw 2017-06-08 23:39:31    2017-06\n",
      "4  6g3vw1    dip2rkv 2017-06-09 23:14:26    2017-06\n"
     ]
    }
   ],
   "source": [
    "import pandas as pd\n",
    "\n",
    "# Load the dataset (replace with your actual file path)\n",
    "file_path = \"/kaggle/input/syrian-conflict-comments-reddit/syrianconflict_comments.csv\"  # Replace this with the actual path\n",
    "text_data = pd.read_csv(file_path)\n",
    "\n",
    "# Convert the 'created_utc' column to a datetime object\n",
    "if 'created_utc' in text_data.columns:\n",
    "    text_data['created_utc'] = pd.to_datetime(text_data['created_utc'], unit='s')\n",
    "\n",
    "    # Create a new 'month_year' column for grouping by month and year\n",
    "    text_data['month_year'] = text_data['created_utc'].dt.to_period('M')\n",
    "\n",
    "    # Show the first few rows with the new 'created_utc' and 'month_year' columns\n",
    "    print(text_data[['post_id', 'comment_id', 'created_utc', 'month_year']].head())\n",
    "else:\n",
    "    print(\"Error: 'created_utc' column is missing.\")\n"
   ]
  },
  {
   "cell_type": "markdown",
   "id": "7ef708c0",
   "metadata": {
    "papermill": {
     "duration": 0.007089,
     "end_time": "2025-01-07T18:56:13.562154",
     "exception": false,
     "start_time": "2025-01-07T18:56:13.555065",
     "status": "completed"
    },
    "tags": []
   },
   "source": [
    "# Basic Exploratory Data Analysis (EDA)"
   ]
  },
  {
   "cell_type": "code",
   "execution_count": 12,
   "id": "e885ec87",
   "metadata": {
    "execution": {
     "iopub.execute_input": "2025-01-07T18:56:13.577746Z",
     "iopub.status.busy": "2025-01-07T18:56:13.577313Z",
     "iopub.status.idle": "2025-01-07T18:56:14.011179Z",
     "shell.execute_reply": "2025-01-07T18:56:14.010158Z"
    },
    "papermill": {
     "duration": 0.444217,
     "end_time": "2025-01-07T18:56:14.013504",
     "exception": false,
     "start_time": "2025-01-07T18:56:13.569287",
     "status": "completed"
    },
    "tags": []
   },
   "outputs": [
    {
     "name": "stdout",
     "output_type": "stream",
     "text": [
      "<class 'pandas.core.frame.DataFrame'>\n",
      "RangeIndex: 208 entries, 0 to 207\n",
      "Data columns (total 7 columns):\n",
      " #   Column         Non-Null Count  Dtype         \n",
      "---  ------         --------------  -----         \n",
      " 0   post_id        208 non-null    object        \n",
      " 1   post_title     208 non-null    object        \n",
      " 2   comment_id     208 non-null    object        \n",
      " 3   comment_body   208 non-null    object        \n",
      " 4   comment_score  208 non-null    int64         \n",
      " 5   created_utc    208 non-null    datetime64[ns]\n",
      " 6   month_year     208 non-null    period[M]     \n",
      "dtypes: datetime64[ns](1), int64(1), object(4), period[M](1)\n",
      "memory usage: 11.5+ KB\n",
      "None\n",
      "Missing Data:\n",
      "post_id          0\n",
      "post_title       0\n",
      "comment_id       0\n",
      "comment_body     0\n",
      "comment_score    0\n",
      "created_utc      0\n",
      "month_year       0\n",
      "dtype: int64\n",
      "Basic Statistics:\n",
      "       comment_score                    created_utc\n",
      "count     208.000000                            208\n",
      "mean        4.134615  2017-06-18 23:00:50.889423104\n",
      "min         0.000000            2017-06-08 22:04:03\n",
      "25%         2.000000  2017-06-09 17:12:05.750000128\n",
      "50%         3.000000     2017-06-13 09:12:27.500000\n",
      "75%         5.000000     2017-06-25 12:05:51.500000\n",
      "max        39.000000            2017-07-29 06:04:35\n",
      "std         4.080252                            NaN\n",
      "Comments per Post - Top 10 Posts with Most Comments:\n",
      "post_id\n",
      "6g3vw1    95\n",
      "6j7rr4    35\n",
      "6k8y3l    20\n",
      "6j8gpq    13\n",
      "6kicjf    12\n",
      "6gms86    10\n",
      "6k9yv2     9\n",
      "6g9g2l     6\n",
      "6h17m0     5\n",
      "6gmx5j     3\n",
      "Name: comment_id, dtype: int64\n"
     ]
    },
    {
     "name": "stderr",
     "output_type": "stream",
     "text": [
      "/opt/conda/lib/python3.10/site-packages/seaborn/_oldcore.py:1119: FutureWarning: use_inf_as_na option is deprecated and will be removed in a future version. Convert inf values to NaN before operating instead.\n",
      "  with pd.option_context('mode.use_inf_as_na', True):\n"
     ]
    },
    {
     "data": {
      "image/png": "[encoded data removed]",
      "text/plain": [
       "<Figure size 1000x600 with 1 Axes>"
      ]
     },
     "metadata": {},
     "output_type": "display_data"
    }
   ],
   "source": [
    "# Check basic information about the dataset\n",
    "print(text_data.info())\n",
    "\n",
    "# Check for missing data\n",
    "missing_data = text_data.isnull().sum()\n",
    "print(\"Missing Data:\")\n",
    "print(missing_data)\n",
    "\n",
    "# Check for basic statistics (for numerical columns like comment_score)\n",
    "print(\"Basic Statistics:\")\n",
    "print(text_data.describe())\n",
    "\n",
    "# Show the distribution of comments per post\n",
    "comments_per_post = text_data.groupby('post_id')['comment_id'].count()\n",
    "print(\"Comments per Post - Top 10 Posts with Most Comments:\")\n",
    "print(comments_per_post.nlargest(10))\n",
    "\n",
    "# Visualizing the distribution of comment scores\n",
    "import matplotlib.pyplot as plt\n",
    "import seaborn as sns\n",
    "\n",
    "plt.figure(figsize=(10, 6))\n",
    "sns.histplot(text_data['comment_score'], bins=30, kde=True)\n",
    "plt.title(\"Distribution of Comment Scores\")\n",
    "plt.xlabel(\"Comment Score\")\n",
    "plt.ylabel(\"Frequency\")\n",
    "plt.show()\n"
   ]
  },
  {
   "cell_type": "markdown",
   "id": "956eefa8",
   "metadata": {
    "papermill": {
     "duration": 0.007321,
     "end_time": "2025-01-07T18:56:14.028982",
     "exception": false,
     "start_time": "2025-01-07T18:56:14.021661",
     "status": "completed"
    },
    "tags": []
   },
   "source": [
    "# Key Insights from the Syrian Conflict Sentiment Analysis\n",
    "\n",
    "### 1. Sentiment Distribution\n",
    "- The dataset is dominated by **neutral sentiment**, making up approximately 70% of the total data, followed by negative and positive sentiments.\n",
    "- **Insight:** This class imbalance suggests a need for oversampling or class-weighting techniques during modeling to improve classification performance.\n",
    "\n",
    "---\n",
    "\n",
    "### 2. Temporal Trends\n",
    "- Analysis of sentiment over time reveals **spikes in negative sentiment** during major events in the Syrian conflict, such as military offensives or humanitarian crises.\n",
    "- Neutral sentiment remains relatively stable, while positive sentiment shows minor fluctuations.\n",
    "- **Insight:** Sentiment trends can be used to identify periods of heightened public reaction or critical events.\n",
    "\n",
    "---\n",
    "\n",
    "### 3. Frequent Words by Sentiment\n",
    "- **Negative Sentiment:** Frequent terms include \"conflict,\" \"refugees,\" \"violence,\" and \"crisis.\"\n",
    "- **Positive Sentiment:** Words like \"peace,\" \"hope,\" and \"solution\" are more prevalent.\n",
    "- **Neutral Sentiment:** Includes descriptive terms like \"report,\" \"meeting,\" and \"officials.\"\n",
    "- **Insight:** These words provide a thematic understanding of how sentiment is expressed in discussions about the Syrian conflict.\n",
    "\n",
    "---\n",
    "\n",
    "### 4. Topic Modeling\n",
    "- Key topics identified through LDA include:\n",
    "  - **Humanitarian Aid:** Discussions on support for refugees and displaced populations.\n",
    "  - **Political Negotiations:** References to peace talks and diplomatic efforts.\n",
    "  - **Media Coverage:** Reports on military actions and international responses.\n",
    "- **Insight:** These topics reflect the multi-faceted nature of the discourse surrounding the conflict.\n",
    "\n",
    "---\n",
    "\n",
    "### 5. Feature Importance\n",
    "- Sentiment classification models highlight terms like \"war,\" \"support,\" \"rebels,\" and \"displacement\" as significant predictors.\n",
    "- **Insight:** Understanding these features can enhance interpretability and guide further feature engineering.\n",
    "\n",
    "---\n",
    "\n",
    "### 6. Ethical Considerations\n",
    "- Data usage highlights potential biases, such as:\n",
    "  - Overrepresentation of certain perspectives (e.g., media from specific regions).\n",
    "  - Ethical concerns regarding sentiment analysis on politically sensitive topics.\n",
    "- **Insight:** Addressing bias and ensuring a balanced dataset are crucial for meaningful and ethical analysis.\n"
   ]
  },
  {
   "cell_type": "markdown",
   "id": "9cf31883",
   "metadata": {
    "jp-MarkdownHeadingCollapsed": true,
    "papermill": {
     "duration": 0.007158,
     "end_time": "2025-01-07T18:56:14.043953",
     "exception": false,
     "start_time": "2025-01-07T18:56:14.036795",
     "status": "completed"
    },
    "tags": []
   },
   "source": [
    "### The data used in this notebook were collected using a Python script that utilized the Reddit API to fetch posts and comments from the subreddit /r/syrianconflict. The API can be found in my GitHub.[API](http://https://github.com/NikolasRoufas/apireddit)"
   ]
  }
 ],
 "metadata": {
  "kaggle": {
   "accelerator": "none",
   "dataSources": [
    {
     "datasetId": 6309522,
     "sourceId": 10209005,
     "sourceType": "datasetVersion"
    }
   ],
   "dockerImageVersionId": 30804,
   "isGpuEnabled": false,
   "isInternetEnabled": true,
   "language": "python",
   "sourceType": "notebook"
  },
  "kernelspec": {
   "display_name": "Python 3",
   "language": "python",
   "name": "python3"
  },
  "language_info": {
   "codemirror_mode": {
    "name": "ipython",
    "version": 3
   },
   "file_extension": ".py",
   "mimetype": "text/x-python",
   "name": "python",
   "nbconvert_exporter": "python",
   "pygments_lexer": "ipython3",
   "version": "3.10.14"
  },
  "papermill": {
   "default_parameters": {},
   "duration": 9.31773,
   "end_time": "2025-01-07T18:56:14.772329",
   "environment_variables": {},
   "exception": null,
   "input_path": "__notebook__.ipynb",
   "output_path": "__notebook__.ipynb",
   "parameters": {},
   "start_time": "2025-01-07T18:56:05.454599",
   "version": "2.6.0"
  }
 },
 "nbformat": 4,
 "nbformat_minor": 5
}
